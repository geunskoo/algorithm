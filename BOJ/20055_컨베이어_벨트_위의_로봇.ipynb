{
 "cells": [
  {
   "cell_type": "markdown",
   "metadata": {},
   "source": [
    "* 문     제 : [[BOJ]20055: 컨베이어 벨트 위의 로봇](https://www.acmicpc.net/problem/20055)\n",
    "* 난  이 도 : 골드5\n",
    "* 풀이 시간 : 45분 소요\n",
    "* 이     슈 :  \n",
    "원형 자료구조에서 회전을 주기 위해서 자료구조가 움직이는 방식이 아닌 커서를 이동시키는 방식을 이용함.  \n",
    "커서에 모듈러스를 이용해서 원형 자료구조를 구현함.\n",
    "\n"
   ]
  },
  {
   "cell_type": "code",
   "execution_count": null,
   "metadata": {},
   "outputs": [],
   "source": [
    "n, k = map(int, input().split())\n",
    "belt_hard = list(map(int, input().split()))\n",
    "belt_robot = [False] * (n*2)\n",
    "\n",
    "def goodBelt():\n",
    "    count = 0\n",
    "    for demage in belt_hard:\n",
    "        if demage <= 0:\n",
    "            count += 1\n",
    "\n",
    "    if count >= k:\n",
    "        return False    \n",
    "    return True\n",
    "    \n",
    "def moveRobot(outCusor):\n",
    "    for i in range(2*n):\n",
    "        i = (outCusor-i)%(2*n)\n",
    "        if belt_robot[i] and not belt_robot[(i+(2*n)+1)%(2*n)] and belt_hard[(i+(2*n)+1)%(2*n)] > 0:\n",
    "            belt_robot[i] = False\n",
    "            belt_robot[(i+(2*n)+1)%(2*n)] = True\n",
    "            belt_hard[(i+(2*n)+1)%(2*n)] -= 1\n",
    "\n",
    "step = 0\n",
    "inCusor = 0\n",
    "outCusor = n-1\n",
    "while True:\n",
    "    if not goodBelt():\n",
    "        break\n",
    "\n",
    "    #벨트 회전\n",
    "    inCusor = (inCusor+(2*n)-1) % (2*n)\n",
    "    outCusor = (outCusor+(2*n)-1) % (2*n)\n",
    "    \n",
    "    belt_robot[outCusor] = False\n",
    "    moveRobot(outCusor)\n",
    "    belt_robot[outCusor] = False\n",
    "    \n",
    "    #로봇 in\n",
    "    if belt_hard[inCusor] > 0:\n",
    "        belt_robot[inCusor] = True\n",
    "        belt_hard[inCusor] -= 1\n",
    "    \n",
    "    step+=1\n",
    "print(step)"
   ]
  },
  {
   "cell_type": "markdown",
   "metadata": {},
   "source": [
    "![image.png](/images/20055-1.png)"
   ]
  },
  {
   "cell_type": "markdown",
   "metadata": {},
   "source": [
    "* deque에 rotate 메서드를 이용하면 실제로 원형자료구조 형태로 회전까지 가능하다.  \n",
    "해당 방법을 통한 풀이"
   ]
  },
  {
   "cell_type": "code",
   "execution_count": 9,
   "metadata": {},
   "outputs": [
    {
     "name": "stdout",
     "output_type": "stream",
     "text": [
      "472\n"
     ]
    }
   ],
   "source": [
    "from collections import deque\n",
    "\n",
    "n, k = map(int, input().split())\n",
    "belt = deque(map(int, input().split()))\n",
    "beltRobot = deque([False] * n)\n",
    "\n",
    "def brokenBelt():\n",
    "    return belt.count(0) >= k\n",
    "\n",
    "def rotateBelt():\n",
    "    belt.rotate(1)\n",
    "    beltRobot.rotate(1)\n",
    "\n",
    "def outRobot():\n",
    "    beltRobot[n-1] = False\n",
    "\n",
    "def moveRobot():\n",
    "    for i in range(n-2, -1, -1):\n",
    "        if beltRobot[i] and not beltRobot[i+1] and belt[i+1] > 0:\n",
    "            beltRobot[i+1] = True\n",
    "            beltRobot[i] = False\n",
    "            belt[i+1] -= 1\n",
    "\n",
    "def inRobot():\n",
    "    if belt[0] > 0:\n",
    "        beltRobot[0] = True\n",
    "        belt[0] -= 1\n",
    "\n",
    "def simulation():\n",
    "    step = 0\n",
    "    while True:\n",
    "        if brokenBelt():\n",
    "            break\n",
    "        \n",
    "        rotateBelt()\n",
    "        outRobot()\n",
    "        moveRobot()\n",
    "        outRobot()\n",
    "        inRobot()\n",
    "\n",
    "        step += 1\n",
    "    return step\n",
    "\n",
    "answer = simulation()\n",
    "print(answer)"
   ]
  },
  {
   "cell_type": "markdown",
   "metadata": {},
   "source": [
    "![image.png](/images/20055-2.png)"
   ]
  },
  {
   "cell_type": "markdown",
   "metadata": {},
   "source": [
    "성능은 역시 자료구조를 움직이는것 보다 커서를 움직이는 것이 더 좋은 듯하다."
   ]
  },
  {
   "cell_type": "code",
   "execution_count": null,
   "metadata": {},
   "outputs": [],
   "source": []
  }
 ],
 "metadata": {
  "kernelspec": {
   "display_name": "Python 3",
   "language": "python",
   "name": "python3"
  },
  "language_info": {
   "codemirror_mode": {
    "name": "ipython",
    "version": 3
   },
   "file_extension": ".py",
   "mimetype": "text/x-python",
   "name": "python",
   "nbconvert_exporter": "python",
   "pygments_lexer": "ipython3",
   "version": "3.11.4"
  }
 },
 "nbformat": 4,
 "nbformat_minor": 2
}
