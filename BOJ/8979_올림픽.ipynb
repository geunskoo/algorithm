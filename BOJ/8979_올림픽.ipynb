{
 "cells": [
  {
   "cell_type": "markdown",
   "metadata": {},
   "source": [
    "* 문     제 : [[BOJ]8979: 문자열교환](https://www.acmicpc.net/problem/8979)\n",
    "* 난  이 도 : 실버5\n",
    "* 풀이 시간 : 25분 소요\n",
    "* 이     슈 : 간단한 문제였으나, 등수측정 알고리즘에서 엄밀하게 점검을 안해서 오답이 한번 나옴. 조금 더 꼼꼼하게 사고를 해야겠음.\n"
   ]
  },
  {
   "cell_type": "code",
   "execution_count": null,
   "metadata": {},
   "outputs": [],
   "source": [
    "#입력\n",
    "from collections import defaultdict\n",
    "n, k = map(int,input().split())\n",
    "\n",
    "data = []\n",
    "for _ in range(n):\n",
    "    name, gold, silver, bronz = map(int, input().split())\n",
    "    data.append([gold, silver, bronz, name])\n",
    "\n",
    "data = sorted(data, key=lambda x: (-x[0], -x[1], -x[2]))\n",
    "rank = 0\n",
    "rank_info = defaultdict(int)\n",
    "pre_g, pre_s, pre_b = -1, -1, -1\n",
    "subRank = 0\n",
    "for g, s, b, name in data:\n",
    "    if not (pre_g == g and pre_s == s and pre_b == b):\n",
    "        rank += subRank\n",
    "        subRank = 0\n",
    "        rank += 1\n",
    "    else:\n",
    "        subRank += 1\n",
    "    pre_g, pre_s, pre_b = g, s, b\n",
    "    rank_info[name] = rank\n",
    "\n",
    "print(rank_info[k])"
   ]
  }
 ],
 "metadata": {
  "kernelspec": {
   "display_name": "Python 3",
   "language": "python",
   "name": "python3"
  },
  "language_info": {
   "codemirror_mode": {
    "name": "ipython",
    "version": 3
   },
   "file_extension": ".py",
   "mimetype": "text/x-python",
   "name": "python",
   "nbconvert_exporter": "python",
   "pygments_lexer": "ipython3",
   "version": "3.11.4"
  }
 },
 "nbformat": 4,
 "nbformat_minor": 2
}
