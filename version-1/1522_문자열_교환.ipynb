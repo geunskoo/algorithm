{
 "cells": [
  {
   "cell_type": "markdown",
   "metadata": {},
   "source": [
    "* 문     제 : [[BOJ]1522: 문자열 교환](https://www.acmicpc.net/problem/1522)\n",
    "* 난 이  도 : 실버1\n",
    "* 풀이 시간 : 35분\n",
    "* 이     슈 : a4에 그림을 그리면서 문제를 푸니 훨씬 손쉬웠다. 그 동안 머리속으로 많이 풀었는 데 이제는 적으면서 푸는 연습을 해야겠다.  \n",
    "            문제를 a군집과 b군집으로 나눌때 최소 교환 횟수로 추상화하고  \n",
    "            a를 중심으로 군집 형성  \n",
    "            b를 중심으로 군집 형성 으로  \n",
    "            크게 추상화를 한 다음 세부적으로 a군집 속 요소별로 스스로가 중심이 되어 군집을 형성할 때 최소 움직임 횟수를 카운트하는 방식으로 해결하였다.\n"
   ]
  },
  {
   "cell_type": "code",
   "execution_count": 9,
   "metadata": {},
   "outputs": [
    {
     "name": "stdout",
     "output_type": "stream",
     "text": [
      "0\n"
     ]
    }
   ],
   "source": [
    "# 입력\n",
    "s = input()\n",
    "totalLen = len(s)\n",
    "\n",
    "#프로세스\n",
    "def getScore(alpha, index, alphaLen, s):\n",
    "    startIndex = totalLen + index - alphaLen + 1\n",
    "    minCounter = 9999999\n",
    "    for i in range(alphaLen):\n",
    "        startIndex = (startIndex + i) % totalLen\n",
    "        counter = 0\n",
    "        for addIndex in range(alphaLen):\n",
    "            if s[(startIndex + addIndex) % totalLen] != alpha:\n",
    "                counter += 1\n",
    "        if minCounter >= counter:\n",
    "            minCounter = counter\n",
    "    return minCounter\n",
    "\n",
    "def mainProcess(alpha):\n",
    "    alphaLen = s.count(alpha)\n",
    "    minScore = 9999999\n",
    "    for index, c in enumerate(s):\n",
    "        if c == alpha:\n",
    "            # 인덱스, 군집수\n",
    "            minScore = min(minScore, getScore(alpha, index, alphaLen, s))\n",
    "\n",
    "    return minScore\n",
    "\n",
    "result1 = mainProcess('a')\n",
    "result2 = mainProcess('b')\n",
    "print(min(result1, result2))"
   ]
  },
  {
   "cell_type": "code",
   "execution_count": null,
   "metadata": {},
   "outputs": [],
   "source": []
  }
 ],
 "metadata": {
  "kernelspec": {
   "display_name": "Python 3",
   "language": "python",
   "name": "python3"
  },
  "language_info": {
   "codemirror_mode": {
    "name": "ipython",
    "version": 3
   },
   "file_extension": ".py",
   "mimetype": "text/x-python",
   "name": "python",
   "nbconvert_exporter": "python",
   "pygments_lexer": "ipython3",
   "version": "3.11.4"
  }
 },
 "nbformat": 4,
 "nbformat_minor": 2
}
