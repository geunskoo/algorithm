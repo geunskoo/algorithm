{
 "cells": [
  {
   "cell_type": "markdown",
   "metadata": {},
   "source": [
    "* 문     제 : [[BOJ]2304: 창고 다각형](https://www.acmicpc.net/problem/2304)\n",
    "* 난  이 도 : 실버2\n",
    "* 풀이 시간 : 25분\n",
    "* 이     슈 : -\n"
   ]
  },
  {
   "cell_type": "code",
   "execution_count": null,
   "metadata": {},
   "outputs": [],
   "source": [
    "def solution(n, data):\n",
    "    sortedData = sorted(data, key=lambda x: (-x[1], x[0]))\n",
    "    data = sorted(data, key=lambda x: -x[0])\n",
    "    maxHeight = sortedData[0][1]\n",
    "    startX, endX = sortedData[0][0], sortedData[0][0]\n",
    "    for x, y in sortedData:\n",
    "        if y == maxHeight:\n",
    "            endX = x\n",
    "        else:\n",
    "            break\n",
    "\n",
    "    side = (endX - startX + 1) * maxHeight\n",
    "\n",
    "    stdX, stdY = data[0]\n",
    "    for i in range(len(data)):\n",
    "        if stdY < data[i][1]:\n",
    "            side += stdY * (stdX-data[i][0])\n",
    "            stdX, stdY = data[i]\n",
    "        if stdY == maxHeight:\n",
    "            break\n",
    "\n",
    "    stdX, stdY = data[-1]\n",
    "    for i in range(len(data)-1, -1, -1):\n",
    "        if stdY < data[i][1]:\n",
    "            side += stdY * (data[i][0]-stdX)\n",
    "            stdX, stdY = data[i]\n",
    "\n",
    "        if stdY == maxHeight:\n",
    "            break\n",
    "    return side\n",
    "\n",
    "#입력\n",
    "n = int(input())\n",
    "data = [list(map(int, input().split())) for _ in range(n)]\n",
    "answer = solution(n, data)\n",
    "print(answer)"
   ]
  }
 ],
 "metadata": {
  "kernelspec": {
   "display_name": "Python 3",
   "language": "python",
   "name": "python3"
  },
  "language_info": {
   "codemirror_mode": {
    "name": "ipython",
    "version": 3
   },
   "file_extension": ".py",
   "mimetype": "text/x-python",
   "name": "python",
   "nbconvert_exporter": "python",
   "pygments_lexer": "ipython3",
   "version": "3.11.4"
  }
 },
 "nbformat": 4,
 "nbformat_minor": 2
}
