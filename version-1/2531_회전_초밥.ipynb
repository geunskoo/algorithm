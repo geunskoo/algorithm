{
 "cells": [
  {
   "cell_type": "markdown",
   "metadata": {},
   "source": [
    "* 문     제 : [[BOJ]2531: 회전 초밥](https://www.acmicpc.net/problem/2531)\n",
    "* 난 이  도 : 실버1\n",
    "* 풀이 시간 : 15분\n",
    "* 이     슈 : 원형 자료구조 + 슬라이딩 윈도우"
   ]
  },
  {
   "cell_type": "code",
   "execution_count": null,
   "metadata": {},
   "outputs": [],
   "source": [
    "import sys\n",
    "input = sys.stdin.readline\n",
    "\n",
    "#데이터 준비\n",
    "n, d, k, c = map(int, input().split())\n",
    "sushi = [int(input()) for _ in range(n)]\n",
    "circle_sushi = sushi + sushi[:k]\n",
    "\n",
    "#프로세스\n",
    "maxValue = -1\n",
    "for i in range(n):\n",
    "    maxValue = max(maxValue, len(set(circle_sushi[i:i+k] + [c])))\n",
    "\n",
    "print(maxValue)\n",
    "\n"
   ]
  }
 ],
 "metadata": {
  "kernelspec": {
   "display_name": "Python 3",
   "language": "python",
   "name": "python3"
  },
  "language_info": {
   "codemirror_mode": {
    "name": "ipython",
    "version": 3
   },
   "file_extension": ".py",
   "mimetype": "text/x-python",
   "name": "python",
   "nbconvert_exporter": "python",
   "pygments_lexer": "ipython3",
   "version": "3.11.4"
  }
 },
 "nbformat": 4,
 "nbformat_minor": 2
}
